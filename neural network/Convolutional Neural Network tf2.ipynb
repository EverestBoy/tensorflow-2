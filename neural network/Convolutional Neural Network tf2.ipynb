{
 "cells": [
  {
   "cell_type": "markdown",
   "metadata": {},
   "source": [
    "### Codes are inspired from: https://github.com/aymericdamien/TensorFlow-Examples/blob/master/tensorflow_v2/notebooks/3_NeuralNetworks/convolutional_network.ipynb"
   ]
  },
  {
   "cell_type": "code",
   "execution_count": 1,
   "metadata": {},
   "outputs": [],
   "source": [
    "import tensorflow as tf\n",
    "from tensorflow.keras import Model, layers\n",
    "import numpy as  np"
   ]
  },
  {
   "cell_type": "code",
   "execution_count": 2,
   "metadata": {},
   "outputs": [],
   "source": [
    "\n",
    "\n",
    "# MNIST dataset parameters.\n",
    "num_classes = 10 # total classes (0-9 digits).\n",
    "\n",
    "# Training parameters.\n",
    "learning_rate = 0.01\n",
    "training_steps = 200\n",
    "batch_size = 128\n",
    "display_step = 10\n",
    "\n",
    "# Network parameters.\n",
    "conv1_filters = 32 # number of filters for 1st conv layer.\n",
    "conv2_filters = 64 # number of filters for 2nd conv layer.\n",
    "fc1_units = 1024 # number of neurons for 1st fully-connected layer.\n",
    "\n"
   ]
  },
  {
   "cell_type": "code",
   "execution_count": 3,
   "metadata": {},
   "outputs": [],
   "source": [
    "# Prepare MNIST data.\n",
    "from tensorflow.keras.datasets import mnist\n",
    "(x_train, y_train), (x_test, y_test) = mnist.load_data()\n",
    "# Convert to float32.\n",
    "x_train, x_test = np.array(x_train, np.float32), np.array(x_test, np.float32)\n",
    "# Normalize images value from [0, 255] to [0, 1].\n",
    "x_train, x_test = x_train / 255., x_test / 255.\n"
   ]
  },
  {
   "cell_type": "code",
   "execution_count": 4,
   "metadata": {},
   "outputs": [],
   "source": [
    "# Use tf.data API to shuffle and batch data.\n",
    "train_data = tf.data.Dataset.from_tensor_slices((x_train, y_train))\n",
    "train_data = train_data.repeat().shuffle(5000).batch(batch_size).prefetch(1)"
   ]
  },
  {
   "cell_type": "code",
   "execution_count": 5,
   "metadata": {},
   "outputs": [],
   "source": [
    "class CNN(Model):\n",
    "    def __init__(self):\n",
    "        super(CNN, self).__init__()\n",
    "        \n",
    "        # Adding one convolutional layer\n",
    "        self.conv1 = layers.Conv2D(32, kernel_size = 3, activation = tf.nn.relu)\n",
    "        self.maxpool1 = layers.MaxPool2D(2, strides=2)\n",
    "        \n",
    "         # Flatten the data to a 1-D vector for the fully connected layer.\n",
    "        self.flatten = layers.Flatten()\n",
    "\n",
    "        # Fully connected layer.\n",
    "        self.fc1 = layers.Dense(1024)\n",
    "        # Apply Dropout (if is_training is False, dropout is not applied).\n",
    "        self.dropout = layers.Dropout(rate=0.5)\n",
    "\n",
    "        # Output layer, class prediction.\n",
    "        self.out = layers.Dense(num_classes)\n",
    "    \n",
    "    def call(self, x, is_training=False):\n",
    "        x = tf.reshape(x, [-1, 28, 28, 1])\n",
    "        x = self.conv1(x)\n",
    "        x = self.maxpool1(x)\n",
    "        x = self.flatten(x)\n",
    "        x = self.fc1(x)\n",
    "        x = self.dropout(x, training=is_training)\n",
    "        x = self.out(x)\n",
    "        if not is_training:\n",
    "            # tf cross entropy expect logits without softmax, so only\n",
    "            # apply softmax when not training.\n",
    "            x = tf.nn.softmax(x)\n",
    "        return x"
   ]
  },
  {
   "cell_type": "code",
   "execution_count": 6,
   "metadata": {},
   "outputs": [],
   "source": [
    "\n",
    "def cross_entropy_loss(x, y):\n",
    "    y = tf.cast(y, tf.int64)\n",
    "    loss = tf.nn.sparse_softmax_cross_entropy_with_logits(labels=y, logits=x)\n",
    "    return tf.reduce_mean(loss)\n",
    "\n",
    "# Accuracy metric.\n",
    "def accuracy(y_pred, y_true):\n",
    "    correct_prediction = tf.equal(tf.argmax(y_pred, 1), tf.cast(y_true, tf.int64))\n",
    "    return tf.reduce_mean(tf.cast(correct_prediction, tf.float32), axis=-1)\n",
    "\n"
   ]
  },
  {
   "cell_type": "code",
   "execution_count": 7,
   "metadata": {},
   "outputs": [],
   "source": [
    "# Training process. \n",
    "def train(x, y):\n",
    "    # Wrap computation inside a GradientTape for automatic differentiation.\n",
    "    with tf.GradientTape() as g:\n",
    "        # Forward pass.\n",
    "        pred = cnn(x, is_training=True)\n",
    "        # Compute loss.\n",
    "        loss = cross_entropy_loss(pred, y)\n",
    "        \n",
    "    # Variables to update, i.e. trainable variables.\n",
    "    trainable_variables = cnn.trainable_variables\n",
    "\n",
    "    # Compute gradients.\n",
    "    gradients = g.gradient(loss, trainable_variables)\n",
    "    \n",
    "    # Update W and b following gradients.\n",
    "    optimizer.apply_gradients(zip(gradients, trainable_variables))"
   ]
  },
  {
   "cell_type": "code",
   "execution_count": 8,
   "metadata": {},
   "outputs": [
    {
     "name": "stdout",
     "output_type": "stream",
     "text": [
      "step: 10, loss: 2.296375, accuracy: 0.289062\n",
      "step: 20, loss: 2.289256, accuracy: 0.421875\n",
      "step: 30, loss: 2.278344, accuracy: 0.570312\n",
      "step: 40, loss: 2.259719, accuracy: 0.757812\n",
      "step: 50, loss: 2.251052, accuracy: 0.695312\n",
      "step: 60, loss: 2.230496, accuracy: 0.671875\n",
      "step: 70, loss: 2.174964, accuracy: 0.734375\n",
      "step: 80, loss: 2.161464, accuracy: 0.734375\n",
      "step: 90, loss: 2.063108, accuracy: 0.835938\n",
      "step: 100, loss: 2.048398, accuracy: 0.765625\n",
      "step: 110, loss: 1.978615, accuracy: 0.804688\n",
      "step: 120, loss: 1.974553, accuracy: 0.781250\n",
      "step: 130, loss: 1.951821, accuracy: 0.773438\n",
      "step: 140, loss: 1.933967, accuracy: 0.765625\n",
      "step: 150, loss: 1.855328, accuracy: 0.851562\n",
      "step: 160, loss: 1.836396, accuracy: 0.789062\n",
      "step: 170, loss: 1.840333, accuracy: 0.789062\n",
      "step: 180, loss: 1.814095, accuracy: 0.843750\n",
      "step: 190, loss: 1.799976, accuracy: 0.820312\n",
      "step: 200, loss: 1.805807, accuracy: 0.765625\n"
     ]
    }
   ],
   "source": [
    "cnn = CNN()\n",
    "# Stochastic gradient descent optimizer.\n",
    "optimizer = tf.optimizers.SGD(learning_rate)\n",
    "# Run training for the given number of steps.\n",
    "for step, (batch_x, batch_y) in enumerate(train_data.take(training_steps), 1):\n",
    "    # Run the optimization to update W and b values.\n",
    "    train(batch_x, batch_y)\n",
    "    \n",
    "    if step % display_step == 0:\n",
    "        pred = cnn(batch_x)\n",
    "        loss = cross_entropy_loss(pred, batch_y)\n",
    "        acc = accuracy(pred, batch_y)\n",
    "        print(\"step: %i, loss: %f, accuracy: %f\" % (step, loss, acc))"
   ]
  },
  {
   "cell_type": "code",
   "execution_count": 9,
   "metadata": {},
   "outputs": [
    {
     "name": "stdout",
     "output_type": "stream",
     "text": [
      "Test Accuracy:  0.8698999881744385\n"
     ]
    }
   ],
   "source": [
    "pred = cnn(x_test)\n",
    "print(f\"Test Accuracy:  {accuracy(pred, y_test)}\")"
   ]
  },
  {
   "cell_type": "code",
   "execution_count": 10,
   "metadata": {},
   "outputs": [
    {
     "name": "stdout",
     "output_type": "stream",
     "text": [
      "step: 10, loss: 2.110892, accuracy: 0.687500\n",
      "step: 20, loss: 1.588778, accuracy: 0.898438\n",
      "step: 30, loss: 1.567721, accuracy: 0.921875\n",
      "step: 40, loss: 1.572155, accuracy: 0.921875\n",
      "step: 50, loss: 1.545868, accuracy: 0.953125\n",
      "step: 60, loss: 1.543453, accuracy: 0.953125\n",
      "step: 70, loss: 1.536548, accuracy: 0.929688\n",
      "step: 80, loss: 1.510620, accuracy: 0.984375\n",
      "step: 90, loss: 1.550764, accuracy: 0.929688\n",
      "step: 100, loss: 1.499901, accuracy: 0.976562\n",
      "step: 110, loss: 1.515895, accuracy: 0.968750\n",
      "step: 120, loss: 1.514361, accuracy: 0.968750\n",
      "step: 130, loss: 1.519545, accuracy: 0.960938\n",
      "step: 140, loss: 1.522086, accuracy: 0.960938\n",
      "step: 150, loss: 1.496347, accuracy: 0.984375\n",
      "step: 160, loss: 1.506718, accuracy: 0.960938\n",
      "step: 170, loss: 1.517227, accuracy: 0.960938\n",
      "step: 180, loss: 1.533745, accuracy: 0.945312\n",
      "step: 190, loss: 1.507281, accuracy: 0.960938\n",
      "step: 200, loss: 1.509618, accuracy: 0.976562\n"
     ]
    }
   ],
   "source": [
    "cnn = CNN()\n",
    "# Adam optimizer.\n",
    "optimizer = tf.optimizers.Adam(learning_rate)\n",
    "# Run training for the given number of steps.\n",
    "for step, (batch_x, batch_y) in enumerate(train_data.take(200), 1):\n",
    "    # Run the optimization to update W and b values.\n",
    "    train(batch_x, batch_y)\n",
    "    \n",
    "    if step % display_step == 0:\n",
    "        pred = cnn(batch_x)\n",
    "        loss = cross_entropy_loss(pred, batch_y)\n",
    "        acc = accuracy(pred, batch_y)\n",
    "        print(\"step: %i, loss: %f, accuracy: %f\" % (step, loss, acc))"
   ]
  },
  {
   "cell_type": "code",
   "execution_count": 12,
   "metadata": {},
   "outputs": [
    {
     "name": "stdout",
     "output_type": "stream",
     "text": [
      "Test Accuracy:  0.9635000228881836\n"
     ]
    }
   ],
   "source": [
    "pred = cnn(x_test)\n",
    "print(f\"Test Accuracy:  {accuracy(pred, y_test)}\")"
   ]
  },
  {
   "cell_type": "code",
   "execution_count": null,
   "metadata": {},
   "outputs": [],
   "source": []
  }
 ],
 "metadata": {
  "kernelspec": {
   "display_name": "Python 3",
   "language": "python",
   "name": "python3"
  },
  "language_info": {
   "codemirror_mode": {
    "name": "ipython",
    "version": 3
   },
   "file_extension": ".py",
   "mimetype": "text/x-python",
   "name": "python",
   "nbconvert_exporter": "python",
   "pygments_lexer": "ipython3",
   "version": "3.8.2"
  }
 },
 "nbformat": 4,
 "nbformat_minor": 4
}
