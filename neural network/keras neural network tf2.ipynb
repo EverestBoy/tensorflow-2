{
 "cells": [
  {
   "cell_type": "markdown",
   "metadata": {},
   "source": [
    "### Codes are inspired from: https://github.com/aymericdamien/TensorFlow-Examples/blob/master/tensorflow_v2/notebooks"
   ]
  },
  {
   "cell_type": "code",
   "execution_count": 1,
   "metadata": {},
   "outputs": [],
   "source": [
    "import tensorflow as tf\n",
    "from tensorflow.keras import Model, layers\n",
    "import numpy as np"
   ]
  },
  {
   "cell_type": "code",
   "execution_count": 2,
   "metadata": {},
   "outputs": [],
   "source": [
    "# MNIST dataset parameters.\n",
    "num_classes = 10 # total classes (0-9 digits).\n",
    "num_features = 784 # data features (img shape: 28*28).\n",
    "\n",
    "# Training parameters.\n",
    "learning_rate = 0.001\n",
    "training_steps = 3000\n",
    "batch_size = 512\n",
    "display_step = 100\n",
    "\n",
    "# Network parameters.\n",
    "n_hidden_1 = 64 # 1st layer number of neurons.\n",
    "n_hidden_2 = 128 # 2nd layer number of neurons."
   ]
  },
  {
   "cell_type": "code",
   "execution_count": 3,
   "metadata": {},
   "outputs": [],
   "source": [
    "from tensorflow.keras.datasets import mnist\n",
    "(x_train, y_train), (x_test, y_test) = mnist.load_data()\n",
    "# Convert to float32.\n",
    "x_train, x_test = np.array(x_train, np.float32), np.array(x_test, np.float32)\n",
    "# Flatten images to 1-D vector of 784 features (28*28).\n",
    "x_train, x_test = x_train.reshape([-1, num_features]), x_test.reshape([-1, num_features])\n",
    "# Normalize images value from [0, 255] to [0, 1].\n",
    "x_train, x_test = x_train / 255., x_test / 255."
   ]
  },
  {
   "cell_type": "code",
   "execution_count": 4,
   "metadata": {},
   "outputs": [],
   "source": [
    "# Use tf.data API to shuffle and batch data.\n",
    "train_data = tf.data.Dataset.from_tensor_slices((x_train, y_train))\n",
    "train_data = train_data.repeat().shuffle(5000).batch(batch_size).prefetch(1)"
   ]
  },
  {
   "cell_type": "code",
   "execution_count": 6,
   "metadata": {},
   "outputs": [],
   "source": [
    "# Creating model using keras Model\n",
    "\n",
    "class NeuralNetwork(Model):\n",
    "    \n",
    "    def __init__(self):\n",
    "        super(NeuralNetwork, self).__init__()\n",
    "        \n",
    "        # First Hidden layer with 64 neuron\n",
    "        self.hn1 = layers.Dense(n_hidden_1, activation = tf.nn.sigmoid)\n",
    "        \n",
    "        # Second Hidden layer with 64 neuron\n",
    "        self.hn2 = layers.Dense(n_hidden_2, activation = tf.nn.sigmoid)\n",
    "        \n",
    "        # Third fully-connecter hidden layer.\n",
    "        self.out = layers.Dense(num_classes)\n",
    "        \n",
    "    # Forward pass\n",
    "    def call(self, x, is_training = False):\n",
    "        x = self.hn1(x)\n",
    "        x = self.hn2(x)\n",
    "        x = self.out(x)\n",
    "        if not is_training:\n",
    "            x = tf.nn.softmax(x)\n",
    "        return x\n",
    "        \n",
    "        "
   ]
  },
  {
   "cell_type": "code",
   "execution_count": 7,
   "metadata": {},
   "outputs": [],
   "source": [
    "neuralNetwork = NeuralNetwork()"
   ]
  },
  {
   "cell_type": "code",
   "execution_count": 8,
   "metadata": {},
   "outputs": [],
   "source": [
    "# Cross-Entropy loss function.\n",
    "def cross_entropy(y_pred, y_true):\n",
    "    # Encode label to a one hot vector.\n",
    "    y_true = tf.one_hot(y_true, depth=num_classes)\n",
    "    # Clip prediction values to avoid log(0) error.\n",
    "    y_pred = tf.clip_by_value(y_pred, 1e-9, 1.)\n",
    "    # Compute cross-entropy.\n",
    "    return tf.reduce_mean(-tf.reduce_sum(y_true * tf.math.log(y_pred)))\n",
    "\n",
    "# Accuracy metric.\n",
    "def accuracy(y_pred, y_true):\n",
    "    # Predicted class is the index of highest score in prediction vector (i.e. argmax).\n",
    "    correct_prediction = tf.equal(tf.argmax(y_pred, 1), tf.cast(y_true, tf.int64))\n",
    "    return tf.reduce_mean(tf.cast(correct_prediction, tf.float32), axis=-1)\n",
    "\n",
    "# Stochastic gradient descent optimizer.\n",
    "optimizer = tf.optimizers.SGD(learning_rate)"
   ]
  },
  {
   "cell_type": "code",
   "execution_count": 17,
   "metadata": {},
   "outputs": [],
   "source": [
    "# Training process. \n",
    "def train(x, y):\n",
    "    # Wrap computation inside a GradientTape for automatic differentiation.\n",
    "    with tf.GradientTape() as g:\n",
    "        pred = neuralNetwork(x)\n",
    "        loss = cross_entropy(pred, y)\n",
    "        \n",
    "    # Variables to update, i.e. trainable variables.\n",
    "    trainable_variables = neuralNetwork.trainable_variables\n",
    "\n",
    "    # Compute gradients.\n",
    "    gradients = g.gradient(loss, trainable_variables)\n",
    "    \n",
    "    # Update W and b following gradients.\n",
    "    optimizer.apply_gradients(zip(gradients, trainable_variables))"
   ]
  },
  {
   "cell_type": "code",
   "execution_count": 18,
   "metadata": {},
   "outputs": [
    {
     "name": "stdout",
     "output_type": "stream",
     "text": [
      "step: 100, loss: 602.020569, accuracy: 0.746094\n",
      "step: 200, loss: 255.733505, accuracy: 0.882812\n",
      "step: 300, loss: 216.186371, accuracy: 0.886719\n",
      "step: 400, loss: 175.950729, accuracy: 0.900391\n",
      "step: 500, loss: 139.368729, accuracy: 0.935547\n",
      "step: 600, loss: 161.316742, accuracy: 0.917969\n",
      "step: 700, loss: 153.265747, accuracy: 0.925781\n",
      "step: 800, loss: 126.786400, accuracy: 0.927734\n",
      "step: 900, loss: 125.623543, accuracy: 0.925781\n",
      "step: 1000, loss: 134.131210, accuracy: 0.933594\n",
      "step: 1100, loss: 109.286461, accuracy: 0.949219\n",
      "step: 1200, loss: 110.793625, accuracy: 0.929688\n",
      "step: 1300, loss: 104.553780, accuracy: 0.947266\n",
      "step: 1400, loss: 97.226860, accuracy: 0.943359\n",
      "step: 1500, loss: 94.492851, accuracy: 0.953125\n",
      "step: 1600, loss: 98.179367, accuracy: 0.947266\n",
      "step: 1700, loss: 76.674934, accuracy: 0.957031\n",
      "step: 1800, loss: 87.897301, accuracy: 0.941406\n",
      "step: 1900, loss: 59.795399, accuracy: 0.974609\n",
      "step: 2000, loss: 87.907318, accuracy: 0.957031\n",
      "step: 2100, loss: 64.775421, accuracy: 0.966797\n",
      "step: 2200, loss: 84.188950, accuracy: 0.945312\n",
      "step: 2300, loss: 76.373222, accuracy: 0.955078\n",
      "step: 2400, loss: 65.151512, accuracy: 0.966797\n",
      "step: 2500, loss: 58.115311, accuracy: 0.972656\n",
      "step: 2600, loss: 73.731651, accuracy: 0.955078\n",
      "step: 2700, loss: 60.200565, accuracy: 0.970703\n",
      "step: 2800, loss: 52.718445, accuracy: 0.976562\n",
      "step: 2900, loss: 66.790825, accuracy: 0.958984\n",
      "step: 3000, loss: 60.791199, accuracy: 0.960938\n"
     ]
    }
   ],
   "source": [
    "\n",
    "# Run training for the given number of steps.\n",
    "for step, (batch_x, batch_y) in enumerate(train_data.take(training_steps), 1):\n",
    "    # Run the optimization to update W and b values.\n",
    "    train(batch_x, batch_y)\n",
    "    \n",
    "    if step % display_step == 0:\n",
    "        pred = neuralNetwork(batch_x)\n",
    "        loss = cross_entropy(pred, batch_y)\n",
    "        acc = accuracy(pred, batch_y)\n",
    "\n",
    "        print(\"step: %i, loss: %f, accuracy: %f\" % (step, loss, acc))"
   ]
  },
  {
   "cell_type": "code",
   "execution_count": null,
   "metadata": {},
   "outputs": [],
   "source": []
  }
 ],
 "metadata": {
  "kernelspec": {
   "display_name": "Python 3",
   "language": "python",
   "name": "python3"
  },
  "language_info": {
   "codemirror_mode": {
    "name": "ipython",
    "version": 3
   },
   "file_extension": ".py",
   "mimetype": "text/x-python",
   "name": "python",
   "nbconvert_exporter": "python",
   "pygments_lexer": "ipython3",
   "version": "3.8.2"
  }
 },
 "nbformat": 4,
 "nbformat_minor": 4
}
